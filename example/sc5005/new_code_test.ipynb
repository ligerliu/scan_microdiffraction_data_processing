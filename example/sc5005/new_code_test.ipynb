{
 "cells": [
  {
   "cell_type": "code",
   "execution_count": 1,
   "metadata": {},
   "outputs": [],
   "source": [
    "%matplotlib inline"
   ]
  },
  {
   "cell_type": "code",
   "execution_count": 2,
   "metadata": {},
   "outputs": [],
   "source": [
    "import sys\n",
    "sys.path.append('..')\n",
    "from xs_scan_proc import calculate_Iqphi,chunk_idx,parallel_func,pttn_roi_sum\n",
    "from h5_data_search import id13_h5_search\n",
    "import pyFAI\n",
    "import numpy as np\n",
    "import h5py\n",
    "import os\n",
    "import fabio\n",
    "import time\n",
    "import re\n",
    "import warnings\n",
    "warnings.filterwarnings('ignore')"
   ]
  },
  {
   "cell_type": "code",
   "execution_count": 3,
   "metadata": {},
   "outputs": [],
   "source": [
    "%run -i test.py"
   ]
  },
  {
   "cell_type": "code",
   "execution_count": 4,
   "metadata": {},
   "outputs": [],
   "source": [
    "def samples_for_process(obj,kw_list):\n",
    "    # obj is the \"id13_h5_search\" object include dataset structure information, defined in the \"h5_data_search\"\n",
    "    # kw_list is key word list, should have form like: [kw] for one sample, \n",
    "    # or [[kw1],[kw2]...] for multiple samples\n",
    "    sample_num = 1\n",
    "    samples    = {}\n",
    "    for kw in kw_list:\n",
    "        if isinstance(kw,list):\n",
    "            obj.keyword_search(*kw)\n",
    "        elif isinstance(kw,str):\n",
    "            obj.keyword_search(kw)\n",
    "        \n",
    "        for _ in range(len(obj._data_name)):\n",
    "            samples['sample{}'.format(sample_num)] = [obj._data_name[_]]\n",
    "        \n",
    "        sample_num += 1\n",
    "        \n",
    "    return samples"
   ]
  },
  {
   "cell_type": "code",
   "execution_count": 5,
   "metadata": {},
   "outputs": [
    {
     "name": "stdout",
     "output_type": "stream",
     "text": [
      "found dataset:\n",
      "WTCS1_c_mac1_strip1lr1_1.1\n",
      "\n",
      "sample:\n",
      "WTCS1\n",
      "\n",
      "dataset:\n",
      "WTCS1_c_mac1_strip1lr1\n",
      "\n",
      "scan:\n",
      "scan00001\n",
      "\n",
      "more than one hdf data found\n",
      "\n",
      "data information:\n",
      "{'scan_type': 'akmap_lut', 'fast_axis': 'ustry', 'fast_axis_start_pos': -7.480499999999999, 'fast_axis_end_pos': -6.480499999999999, 'fast_axis_num_step': 201, 'slow_axis': 'ustrz', 'slow_axis_start_pos': -4.3134, 'slow_axis_end_pos': -3.3133999999999997, 'slow_axis_num_step': 201, 'exposure_time': 0.02}\n",
      "\n",
      "detector position:\n",
      "-614.0\n",
      "\n",
      "21 h5 files in this scan\n",
      "\n",
      "\n",
      "\n"
     ]
    }
   ],
   "source": [
    "proposal_path = \"/data/visitor/ls2995/id13\"\n",
    "proposal_num  = \"ls2995\"\n",
    "data_path     = 'entry_0000/measurement/data'\n",
    "# the directory could be replaced by user with specific path\n",
    "save_path     = os.getcwd()\n",
    "\n",
    "\n",
    "t1 = id13_h5_search(proposal_path,proposal_num)\n",
    "\n",
    "\n",
    "sample_keywords = [\n",
    "                  #['MoBS_A_C1_9.1'],\n",
    "                  #['WTCS1','8'],\n",
    "                  #['WTCS1_b_mac1_strip1lr1_1.1'],\n",
    "                  #['WTCS1_b_mac1_strip1lr1_2.1'],\n",
    "                  ['WTCS1_c_mac1_strip1lr1_1.1'],\n",
    "                  #['mac1','sup']\n",
    "                  ]\n",
    "samples = samples_for_process(t1,sample_keywords)"
   ]
  },
  {
   "cell_type": "code",
   "execution_count": 6,
   "metadata": {},
   "outputs": [],
   "source": [
    "total_pttns,scan_shape,idx_list = scan_info(t1)\n",
    "h5_list,path_idx,pttn_idx = scan_h5_data_info(t1,scan_shape,idx_list)"
   ]
  },
  {
   "cell_type": "code",
   "execution_count": 7,
   "metadata": {},
   "outputs": [
    {
     "data": {
      "text/plain": [
       "<matplotlib.image.AxesImage at 0x7f593abd05d0>"
      ]
     },
     "execution_count": 7,
     "metadata": {},
     "output_type": "execute_result"
    },
    {
     "data": {
      "image/png": "[encoded data removed]",
      "text/plain": [
       "<Figure size 432x288 with 2 Axes>"
      ]
     },
     "metadata": {
      "needs_background": "light"
     },
     "output_type": "display_data"
    }
   ],
   "source": [
    "import matplotlib.pyplot as plt\n",
    "plt.figure()\n",
    "plt.subplot(121)\n",
    "plt.imshow(path_idx)\n",
    "plt.subplot(122)\n",
    "plt.imshow(pttn_idx)"
   ]
  },
  {
   "cell_type": "code",
   "execution_count": 16,
   "metadata": {},
   "outputs": [
    {
     "data": {
      "text/plain": [
       "3670.5967168244947"
      ]
     },
     "execution_count": 16,
     "metadata": {},
     "output_type": "execute_result"
    }
   ],
   "source": [
    "pttn_roi_sum(pttn_idx.flatten()[100],h5_list[path_idx.flatten()[100]],data_path=data_path)"
   ]
  },
  {
   "cell_type": "code",
   "execution_count": 17,
   "metadata": {},
   "outputs": [
    {
     "data": {
      "text/plain": [
       "'/data/visitor/ls2995/id13/WTCS1/WTCS1_c_mac1_strip1lr1/scan00001/eiger/WTCS1_c_mac1_strip1lr1_00001_data_000000.h5'"
      ]
     },
     "execution_count": 17,
     "metadata": {},
     "output_type": "execute_result"
    }
   ],
   "source": [
    "h5_list[path_idx.flatten()[100]]"
   ]
  },
  {
   "cell_type": "code",
   "execution_count": 18,
   "metadata": {},
   "outputs": [
    {
     "data": {
      "text/plain": [
       "<Figure size 432x288 with 0 Axes>"
      ]
     },
     "metadata": {},
     "output_type": "display_data"
    }
   ],
   "source": [
    "%run -i test.py"
   ]
  },
  {
   "cell_type": "code",
   "execution_count": 19,
   "metadata": {},
   "outputs": [
    {
     "data": {
      "text/plain": [
       "('/data/visitor/ls2995/id13/WTCS1/WTCS1_c_mac1_strip1lr1/scan00001/eiger/WTCS1_c_mac1_strip1lr1_00001_data_000000.h5',\n",
       " 100)"
      ]
     },
     "execution_count": 19,
     "metadata": {},
     "output_type": "execute_result"
    }
   ],
   "source": [
    "proc_param_info(100,h5_list,path_idx.flatten(),pttn_idx.flatten())"
   ]
  },
  {
   "cell_type": "code",
   "execution_count": 20,
   "metadata": {},
   "outputs": [
    {
     "data": {
      "text/plain": [
       "3670.5967168244947"
      ]
     },
     "execution_count": 20,
     "metadata": {},
     "output_type": "execute_result"
    }
   ],
   "source": [
    "run_func(100,\n",
    "         pttn_roi_sum, \n",
    "         h5_list=h5_list,\n",
    "         path_idx=path_idx.flatten(),\n",
    "         pttn_idx=pttn_idx.flatten(),\n",
    "         data_path = data_path)"
   ]
  },
  {
   "cell_type": "code",
   "execution_count": 22,
   "metadata": {},
   "outputs": [
    {
     "name": "stdout",
     "output_type": "stream",
     "text": [
      "414.3783504962921\n"
     ]
    },
    {
     "ename": "AttributeError",
     "evalue": "'list' object has no attribute 'reshape'",
     "output_type": "error",
     "traceback": [
      "\u001b[0;31m-----------------------------------------------------------------\u001b[0m",
      "\u001b[0;31mAttributeError\u001b[0m                  Traceback (most recent call last)",
      "\u001b[0;32m/data/id13/inhouse12/jiliang/code_v2/jl_ana/test.py\u001b[0m in \u001b[0;36m<module>\u001b[0;34m\u001b[0m\n\u001b[1;32m      7\u001b[0m                    data_path=data_path)\n\u001b[1;32m      8\u001b[0m \u001b[0mprint\u001b[0m\u001b[0;34m(\u001b[0m\u001b[0mtime\u001b[0m\u001b[0;34m.\u001b[0m\u001b[0mtime\u001b[0m\u001b[0;34m(\u001b[0m\u001b[0;34m)\u001b[0m\u001b[0;34m-\u001b[0m\u001b[0mtm\u001b[0m\u001b[0;34m)\u001b[0m\u001b[0;34m\u001b[0m\u001b[0;34m\u001b[0m\u001b[0m\n\u001b[0;32m----> 9\u001b[0;31m \u001b[0mplt\u001b[0m\u001b[0;34m.\u001b[0m\u001b[0mimshow\u001b[0m\u001b[0;34m(\u001b[0m\u001b[0mroi\u001b[0m\u001b[0;34m.\u001b[0m\u001b[0mreshape\u001b[0m\u001b[0;34m(\u001b[0m\u001b[0;36m201\u001b[0m\u001b[0;34m,\u001b[0m\u001b[0;36m201\u001b[0m\u001b[0;34m)\u001b[0m\u001b[0;34m)\u001b[0m\u001b[0;34m\u001b[0m\u001b[0;34m\u001b[0m\u001b[0m\n\u001b[0m",
      "\u001b[0;31mAttributeError\u001b[0m: 'list' object has no attribute 'reshape'"
     ]
    }
   ],
   "source": [
    "import time\n",
    "tm = time.time()\n",
    "roi = parallel_func(scan_pttn_roi_sum,12,np.arange(len(path_idx.flatten())),\n",
    "                   h5_list=h5_list,\n",
    "                   path_idx=path_idx.flatten(),\n",
    "                   pttn_idx=pttn_idx.flatten(),\n",
    "                   data_path=data_path)\n",
    "print(time.time()-tm)"
   ]
  },
  {
   "cell_type": "code",
   "execution_count": 72,
   "metadata": {},
   "outputs": [
    {
     "data": {
      "text/plain": [
       "<matplotlib.image.AxesImage at 0x7f0b741280d0>"
      ]
     },
     "execution_count": 72,
     "metadata": {},
     "output_type": "execute_result"
    },
    {
     "data": {
      "image/png": "[encoded data removed]",
      "text/plain": [
       "<Figure size 432x288 with 1 Axes>"
      ]
     },
     "metadata": {
      "needs_background": "light"
     },
     "output_type": "display_data"
    }
   ],
   "source": [
    "plt.subplots()\n",
    "plt.imshow(np.array(roi).reshape(201,201),vmin=3650,vmax=3680,cmap='jet')\n"
   ]
  },
  {
   "cell_type": "markdown",
   "metadata": {},
   "source": [
    "from xs_scan_proc import *\n",
    "\n",
    "def parallel_new_func(func,num_cores,args,*args2,**kwargs):\n",
    "    func = partial(func,*args2,**kwargs)\n",
    "    with Pool(num_cores) as pool:\n",
    "        res = pool.map(func,args) \n",
    "        pool.close()\n",
    "    return res\n",
    "\n",
    "roi = parallel_new_func(run_func,12,np.arange(len(path_idx.flatten())),\n",
    "                   pttn_roi_sum,\n",
    "                   h5_list=h5_list,\n",
    "                   path_idx=path_idx.flatten(),\n",
    "                   pttn_idx=pttn_idx.flatten(),\n",
    "                   data_path=data_path)"
   ]
  },
  {
   "cell_type": "code",
   "execution_count": 73,
   "metadata": {},
   "outputs": [
    {
     "data": {
      "text/plain": [
       "0.010247271107150815"
      ]
     },
     "execution_count": 73,
     "metadata": {},
     "output_type": "execute_result"
    }
   ],
   "source": [
    "414/201/201"
   ]
  },
  {
   "cell_type": "code",
   "execution_count": 74,
   "metadata": {},
   "outputs": [
    {
     "data": {
      "text/plain": [
       "0.22444999999999998"
      ]
     },
     "execution_count": 74,
     "metadata": {},
     "output_type": "execute_result"
    }
   ],
   "source": [
    "201*201*0.02/3600"
   ]
  },
  {
   "cell_type": "code",
   "execution_count": 75,
   "metadata": {},
   "outputs": [
    {
     "data": {
      "text/plain": [
       "0.115"
      ]
     },
     "execution_count": 75,
     "metadata": {},
     "output_type": "execute_result"
    }
   ],
   "source": [
    "414/3600"
   ]
  },
  {
   "cell_type": "code",
   "execution_count": null,
   "metadata": {},
   "outputs": [],
   "source": []
  }
 ],
 "metadata": {
  "kernelspec": {
   "display_name": "Python 3",
   "language": "python",
   "name": "python3"
  },
  "language_info": {
   "codemirror_mode": {
    "name": "ipython",
    "version": 3
   },
   "file_extension": ".py",
   "mimetype": "text/x-python",
   "name": "python",
   "nbconvert_exporter": "python",
   "pygments_lexer": "ipython3",
   "version": "3.7.9"
  }
 },
 "nbformat": 4,
 "nbformat_minor": 4
}
