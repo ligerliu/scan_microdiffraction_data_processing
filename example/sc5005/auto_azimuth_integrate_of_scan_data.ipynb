{
 "cells": [
  {
   "cell_type": "code",
   "execution_count": 1,
   "metadata": {},
   "outputs": [],
   "source": [
    "#enable to plot with matplotlib\n",
    "%matplotlib inline"
   ]
  },
  {
   "cell_type": "code",
   "execution_count": 2,
   "metadata": {},
   "outputs": [],
   "source": [
    "#import all the necessary functions\n",
    "import sys\n",
    "sys.path.append('../../xs_proc/')\n",
    "from visual_func import *\n",
    "from xs_data_proc import *\n",
    "from proc_data_ana import *\n",
    "import matplotlib.pyplot as plt\n",
    "from h5_data_search import id13_h5_search\n",
    "import pyFAI\n",
    "import numpy as np\n",
    "import h5py\n",
    "import os\n",
    "import fabio\n",
    "import time\n",
    "import re\n",
    "import warnings\n",
    "warnings.filterwarnings('ignore')\n",
    "from multi_scan_qphi_proc import *\n",
    "from multi_scan_Iq_proc import *"
   ]
  },
  {
   "cell_type": "code",
   "execution_count": 3,
   "metadata": {},
   "outputs": [],
   "source": [
    "# input sample information for further process\n",
    "# basic info include with process data location and proposal number to identify the *_id13.h5\n",
    "proposal_path = \"/data/visitor/sc5005/id13\"\n",
    "proposal_num  = \"sc5005\"\n",
    "data_path     = 'entry_0000/measurement/data'\n",
    "\n",
    "# for saving integration results, save_path is needed. save_path is defined by user\n",
    "save_path     = os.getcwd() # os.getcwd() is choosing current directory, user could define their own"
   ]
  },
  {
   "cell_type": "code",
   "execution_count": 18,
   "metadata": {},
   "outputs": [
    {
     "name": "stdout",
     "output_type": "stream",
     "text": [
      "found dataset:\n",
      "mount04_M22Lox_1.1\n",
      "mount04_M22Lox_2.1\n",
      "mount04_M22Lox_3.1\n",
      "mount04_M22Lox_4.1\n",
      "mount04_M22Lox_5.1\n",
      "mount04_M22Lox_6.1\n",
      "mount04_M22Lox_7.1\n",
      "mount04_M22Lox_pos2_1.1\n",
      "mount04_M22Lox_pos2_2.1\n",
      "mount04_M22Lox_pos2_3.1\n",
      "mount04_M22Lox_pos2_4.1\n",
      "mount04_M22Lox_pos2_5.1\n",
      "mount04_M22Lox_pos2_6.1\n",
      "mount04_M22Lox_pos2_7.1\n",
      "mount04_M22Lox_pos2_8.1\n",
      "mount04_M22Lox_pos2_9.1\n",
      "\n",
      "\n",
      "More than one scan matched, please give more specific input\n"
     ]
    }
   ],
   "source": [
    "# here build a class that is able parse the scan information from <proposal_num>_id13.h5\n",
    "t1 = id13_h5_search(proposal_path,proposal_num)\n",
    "\n",
    "sample_keywords = [\n",
    "              ['Lox'],\n",
    "              #['ATT']\n",
    "              #['mount05','BM2N','pos1'],\n",
    "              ]\n",
    "\n",
    "# get hpyer link for all the sample keywords, more keywords could be included for locating specific pattern\n",
    "samples = samples_for_process(t1,sample_keywords)\n",
    "tm = time.time()\n"
   ]
  },
  {
   "cell_type": "code",
   "execution_count": null,
   "metadata": {},
   "outputs": [],
   "source": [
    "# to automatically all the scan shown in previous cell\n",
    "# if save = True, the result of azimuth integration will be save within the folder \"hdf_file\" under save_path directory\n",
    "\n",
    "# for 2d azimuth integration\n",
    "auto_proc_qphi(t1,samples,save_path,num_core=16)#,save=False)\n",
    "auto_proc_Iq(t1,samples,save_path,num_core=16)#,save=False)"
   ]
  },
  {
   "cell_type": "code",
   "execution_count": 19,
   "metadata": {},
   "outputs": [
    {
     "name": "stdout",
     "output_type": "stream",
     "text": [
      "found dataset:\n",
      "mount04_M22Lox_pos2_9.1\n",
      "\n",
      "sample:\n",
      "mount04\n",
      "\n",
      "dataset:\n",
      "mount04_M22Lox_pos2\n",
      "\n",
      "scan:\n",
      "scan00009\n",
      "\n",
      "data information:\n",
      "{'scan_type': 'akmap', 'fast_axis': 'nnp3', 'fast_axis_start_pos': 133.0, 'fast_axis_end_pos': 139.0, 'fast_axis_num_step': 120, 'slow_axis': 'nnp2', 'slow_axis_start_pos': 125.0, 'slow_axis_end_pos': 100.0, 'slow_axis_num_step': 50, 'exposure_time': 0.075}\n",
      "\n",
      "detector position:\n",
      "-300.0\n",
      "\n",
      "1 h5 files in this scan\n",
      "\n",
      "\n",
      "\n"
     ]
    }
   ],
   "source": [
    "t1 = id13_h5_search(proposal_path,proposal_num)\n",
    "\n",
    "sample_keywords = [\n",
    "              ['Lox','9'],\n",
    "              #['ATT']\n",
    "              #['mount05','BM2N','pos1'],\n",
    "              ]\n",
    "\n",
    "# if keyworks is informative enough, aimed scan will be located, the scan information will be displayed as below\n",
    "samples = samples_for_process(t1,sample_keywords)\n",
    "tm = time.time()"
   ]
  },
  {
   "cell_type": "code",
   "execution_count": null,
   "metadata": {},
   "outputs": [],
   "source": []
  }
 ],
 "metadata": {
  "kernelspec": {
   "display_name": "Python 3",
   "language": "python",
   "name": "python3"
  },
  "language_info": {
   "codemirror_mode": {
    "name": "ipython",
    "version": 3
   },
   "file_extension": ".py",
   "mimetype": "text/x-python",
   "name": "python",
   "nbconvert_exporter": "python",
   "pygments_lexer": "ipython3",
   "version": "3.7.9"
  }
 },
 "nbformat": 4,
 "nbformat_minor": 4
}
